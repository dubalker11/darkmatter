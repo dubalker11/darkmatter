{
  "nbformat": 4,
  "nbformat_minor": 0,
  "metadata": {
    "colab": {
      "provenance": [],
      "authorship_tag": "ABX9TyPTo1gm5RTrAbWnsYXDkpIk",
      "include_colab_link": true
    },
    "kernelspec": {
      "name": "python3",
      "display_name": "Python 3"
    },
    "language_info": {
      "name": "python"
    }
  },
  "cells": [
    {
      "cell_type": "markdown",
      "metadata": {
        "id": "view-in-github",
        "colab_type": "text"
      },
      "source": [
        "<a href=\"https://colab.research.google.com/github/dubalker11/darkmatter/blob/main/Week_2_coding_part_1_Ben_Walker_(walker_2487).ipynb\" target=\"_parent\"><img src=\"https://colab.research.google.com/assets/colab-badge.svg\" alt=\"Open In Colab\"/></a>"
      ]
    },
    {
      "cell_type": "markdown",
      "source": [
        "1."
      ],
      "metadata": {
        "id": "pXm9zNcuozAD"
      }
    },
    {
      "cell_type": "code",
      "execution_count": null,
      "metadata": {
        "id": "a-g7sJfLXh35"
      },
      "outputs": [],
      "source": [
        "#import required packages\n",
        "import numpy as np\n",
        "import astropy.units as u\n",
        "import astropy.constants as ac"
      ]
    },
    {
      "cell_type": "markdown",
      "source": [
        "$v_{orbital} = \\sqrt{\\frac{GM_{sun}}{r}}$"
      ],
      "metadata": {
        "id": "MqTf4vWoYM0z"
      }
    },
    {
      "cell_type": "code",
      "source": [
        "ac.G.si #gravitational constant"
      ],
      "metadata": {
        "colab": {
          "base_uri": "https://localhost:8080/",
          "height": 42
        },
        "id": "zIcYvaP3X1mh",
        "outputId": "c0584856-a713-43bf-f512-a5f2e8ef5493"
      },
      "execution_count": null,
      "outputs": [
        {
          "output_type": "execute_result",
          "data": {
            "text/plain": [
              "<<class 'astropy.constants.codata2018.CODATA2018'> name='Gravitational constant' value=6.6743e-11 uncertainty=1.5e-15 unit='m3 / (kg s2)' reference='CODATA 2018'>"
            ],
            "text/latex": "$6.6743 \\times 10^{-11} \\; \\mathrm{\\frac{m^{3}}{kg\\,s^{2}}}$"
          },
          "metadata": {},
          "execution_count": 56
        }
      ]
    },
    {
      "cell_type": "code",
      "source": [
        "v_orbital = np.sqrt(ac.G * u.solMass / u.au) #orbital velocity of the Earth around the Sun\n",
        "v_orbital.si.to(u.km / u.s) #convert to kilometers per second"
      ],
      "metadata": {
        "colab": {
          "base_uri": "https://localhost:8080/",
          "height": 38
        },
        "id": "opyH95JYYzUX",
        "outputId": "39d8ba9a-46c9-4d4e-e2be-1ce5b306dd3a"
      },
      "execution_count": null,
      "outputs": [
        {
          "output_type": "execute_result",
          "data": {
            "text/plain": [
              "<Quantity 29.78469183 km / s>"
            ],
            "text/latex": "$29.784692 \\; \\mathrm{\\frac{km}{s}}$"
          },
          "metadata": {},
          "execution_count": 57
        }
      ]
    },
    {
      "cell_type": "code",
      "source": [
        "v_orb = np.sqrt(ac.G * u.earthMass/u.earthRad) #orbital velocity of a satellite around the Earth\n",
        "v_orb.si.to(u.km / u.s) #convert to kilometers per second"
      ],
      "metadata": {
        "colab": {
          "base_uri": "https://localhost:8080/",
          "height": 38
        },
        "id": "FdyQOFwDas3a",
        "outputId": "8ebf2a20-3bc7-4464-f4d4-48e8ddaf36b6"
      },
      "execution_count": null,
      "outputs": [
        {
          "output_type": "execute_result",
          "data": {
            "text/plain": [
              "<Quantity 7.90538823 km / s>"
            ],
            "text/latex": "$7.9053882 \\; \\mathrm{\\frac{km}{s}}$"
          },
          "metadata": {},
          "execution_count": 58
        }
      ]
    },
    {
      "cell_type": "code",
      "source": [
        "r_blackhole = ((2 * ac.G) * u.solMass) / ac.c**2 #the Schwarzschild radius of a solar-mass blackhole\n",
        "r_blackhole.si.to(u.km) #convert to kilometers"
      ],
      "metadata": {
        "colab": {
          "base_uri": "https://localhost:8080/",
          "height": 37
        },
        "id": "RjBDv32m3cZH",
        "outputId": "9003a440-4cca-4517-f886-03af68d143d4"
      },
      "execution_count": null,
      "outputs": [
        {
          "output_type": "execute_result",
          "data": {
            "text/plain": [
              "<Quantity 2.95325008 km>"
            ],
            "text/latex": "$2.9532501 \\; \\mathrm{km}$"
          },
          "metadata": {},
          "execution_count": 59
        }
      ]
    }
  ]
}